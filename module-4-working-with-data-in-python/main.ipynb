{
 "cells": [
  {
   "cell_type": "code",
   "execution_count": 4,
   "metadata": {},
   "outputs": [
    {
     "name": "stdout",
     "output_type": "stream",
     "text": [
      "This is Line 1\n",
      "This is Line 2\n",
      "This is Line 3\n",
      "True\n"
     ]
    }
   ],
   "source": [
    "# https://labs.cognitiveclass.ai/v2/tools/jupyterlite?ulid=ulid-79553fd066196ae2134bb29c7998853b1fe8d712\n",
    "\n",
    "# Reading a file\n",
    "with open(\"file1.txt\", \"r\") as File1:\n",
    "   file_stuff = File1.read()\n",
    "   print(file_stuff)\n",
    "print(File1.closed) # returns True, because the file is closed\n",
    "# print(file_stuff)"
   ]
  },
  {
   "cell_type": "code",
   "execution_count": 7,
   "metadata": {},
   "outputs": [],
   "source": [
    "# Writing a file\n",
    "name_file = \"file1.txt\"\n",
    "# r = read, w = write, a = append, r+ = read and write\n",
    "\n",
    "#File1 = open(\"file1.txt\", \"w\") \n",
    "\n",
    "# Example 1\n",
    "with open(\"file1.txt\", \"w\") as File1: \n",
    "   File1.write(\"This is line A\\n\")\n",
    "   File1.write(\"This is line B\\n\")\n",
    "\n",
    "\n",
    "# Example 2\n",
    "Lines = [\"This is line A\\n\", \"This is line B\\n\", \"This is line C\\n\"]\t\n",
    "with open(\"file1.txt\", \"w\") as File1:\n",
    "   for line in Lines:\n",
    "      File1.write(line)"
   ]
  },
  {
   "cell_type": "code",
   "execution_count": 9,
   "metadata": {},
   "outputs": [],
   "source": [
    "# Appending a file\n",
    "with open(\"file1.txt\", \"a\") as File1:\n",
    "   File1.write(\"This is line C\\n\")\n",
    "\n",
    "# This will not create a new file, but just use the existing file\n",
    "\n",
    "\n",
    "# Copying a file\n",
    "with open(\"file1.txt\",\"r\") as readfile:\n",
    "   with open(\"file2.txt\",\"w\") as writefile:\n",
    "      for line in readfile:\n",
    "         writefile.write(line)   "
   ]
  },
  {
   "cell_type": "code",
   "execution_count": null,
   "metadata": {},
   "outputs": [],
   "source": [
    "import pandas as pd\n",
    "csv_path = 'file.csv'\n",
    "df = pd.read_csv(csv_path)\n",
    "df.head()\n",
    "\n",
    "# DataFrames\n",
    "# The keys of the dictionary are the column labels and the values are the lists of the column values\n",
    "songs = {'Album':['Thriller','Back in Black','The Dark Side of the Moon','The Bodyguard','Bat Out of Hell'],\n",
    "         'Released':[1982,1980,1973,1992,1977],\n",
    "         'Length':['00:42:19','00:42:11','00:42:49','00:57:44','00:46:33']}\n",
    "\n",
    "songs_frame = pd.DataFrame(df)\n",
    "\n",
    "# Accessing the column Length\n",
    "x = songs_frame[['Length']]\n",
    "print(x)\n",
    "\n",
    "# Example \n",
    "z = df.ix[0:2, \"Arts\":\"Release\"]"
   ]
  },
  {
   "cell_type": "code",
   "execution_count": 14,
   "metadata": {},
   "outputs": [
    {
     "data": {
      "text/html": [
       "<div>\n",
       "<style scoped>\n",
       "    .dataframe tbody tr th:only-of-type {\n",
       "        vertical-align: middle;\n",
       "    }\n",
       "\n",
       "    .dataframe tbody tr th {\n",
       "        vertical-align: top;\n",
       "    }\n",
       "\n",
       "    .dataframe thead th {\n",
       "        text-align: right;\n",
       "    }\n",
       "</style>\n",
       "<table border=\"1\" class=\"dataframe\">\n",
       "  <thead>\n",
       "    <tr style=\"text-align: right;\">\n",
       "      <th></th>\n",
       "      <th>a</th>\n",
       "      <th>b</th>\n",
       "    </tr>\n",
       "  </thead>\n",
       "  <tbody>\n",
       "    <tr>\n",
       "      <th>0</th>\n",
       "      <td>11</td>\n",
       "      <td>21</td>\n",
       "    </tr>\n",
       "    <tr>\n",
       "      <th>1</th>\n",
       "      <td>21</td>\n",
       "      <td>22</td>\n",
       "    </tr>\n",
       "    <tr>\n",
       "      <th>2</th>\n",
       "      <td>31</td>\n",
       "      <td>23</td>\n",
       "    </tr>\n",
       "  </tbody>\n",
       "</table>\n",
       "</div>"
      ],
      "text/plain": [
       "    a   b\n",
       "0  11  21\n",
       "1  21  22\n",
       "2  31  23"
      ]
     },
     "execution_count": 14,
     "metadata": {},
     "output_type": "execute_result"
    }
   ],
   "source": [
    "# Exercise 1\n",
    "\n",
    "#Consider the dataframe df. How would you find the element in the second row and first column?\n",
    "# df.iloc[1,0] or df.ix[1,0]\n",
    "\n",
    "# Will the following code run?\n",
    "\n",
    "import pandas as banana\n",
    "\n",
    "df=banana.DataFrame({'a':[11,21,31],'b':[21,22,23]})\n",
    "\n",
    "df.head()"
   ]
  },
  {
   "cell_type": "code",
   "execution_count": null,
   "metadata": {},
   "outputs": [],
   "source": [
    "# List Uniq Values\n",
    "import pandas as pd\n",
    "df = pd.read_csv(\"file.csv\")\n",
    "\n",
    "df1 = df[df['Relsead']>=1980]\n",
    "print(df)\n"
   ]
  }
 ],
 "metadata": {
  "kernelspec": {
   "display_name": "Python 3",
   "language": "python",
   "name": "python3"
  },
  "language_info": {
   "codemirror_mode": {
    "name": "ipython",
    "version": 3
   },
   "file_extension": ".py",
   "mimetype": "text/x-python",
   "name": "python",
   "nbconvert_exporter": "python",
   "pygments_lexer": "ipython3",
   "version": "3.12.2"
  }
 },
 "nbformat": 4,
 "nbformat_minor": 2
}

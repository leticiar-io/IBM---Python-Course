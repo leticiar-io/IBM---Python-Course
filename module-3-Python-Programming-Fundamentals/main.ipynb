{
 "cells": [
  {
   "cell_type": "code",
   "execution_count": 4,
   "metadata": {},
   "outputs": [
    {
     "name": "stdout",
     "output_type": "stream",
     "text": [
      "Go see Meat Loaf\n",
      "Move On\n"
     ]
    }
   ],
   "source": [
    "# Conditions and Branching \n",
    "\n",
    "age = int(input(\"Enter your age: \"))\n",
    "\n",
    "if (age >= 18):\n",
    "   print(\"You can enter\")\n",
    "else:\n",
    "   print(\"Go see Meat Loaf\")\n",
    "print(\"Move On\")"
   ]
  }
 ],
 "metadata": {
  "kernelspec": {
   "display_name": "Python 3",
   "language": "python",
   "name": "python3"
  },
  "language_info": {
   "codemirror_mode": {
    "name": "ipython",
    "version": 3
   },
   "file_extension": ".py",
   "mimetype": "text/x-python",
   "name": "python",
   "nbconvert_exporter": "python",
   "pygments_lexer": "ipython3",
   "version": "3.12.2"
  }
 },
 "nbformat": 4,
 "nbformat_minor": 2
}

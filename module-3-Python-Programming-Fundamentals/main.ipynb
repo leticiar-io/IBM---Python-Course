{
 "cells": [
  {
   "cell_type": "code",
   "execution_count": 18,
   "metadata": {},
   "outputs": [
    {
     "name": "stdout",
     "output_type": "stream",
     "text": [
      "Go to see Pink Floyd\n",
      "Move On\n",
      "The album was made in the 70's or 90's\n"
     ]
    }
   ],
   "source": [
    "# Conditions and Branching \n",
    "\n",
    "age = int(input(\"Enter your age: \"))\n",
    "\n",
    "#if (age >= 18):\n",
    "#   print(\"You can enter\")\n",
    "#else:\n",
    "#   print(\"Go see Meat Loaf\")\n",
    "#print(\"Move On\")\n",
    "\n",
    "# Elif statement\n",
    "\n",
    "if (age > 18):\n",
    "   print(\"You can enter\")\n",
    "elif (age == 18):\n",
    "   print(\"Go to see Pink Floyd\")\n",
    "else:\n",
    "   print(\"Go see Meat Loaf\")\n",
    "print(\"Move On\")\n",
    "\n",
    "# Logical operators\n",
    "# and, or, not\n",
    "\n",
    "album_year = 1990\n",
    "if (album_year < 1980) or (album_year > 1989):\n",
    "   print(\"The album was made in the 70's or 90's\")\n",
    "else:\n",
    "   print(\"The album was made in the 80's\")\n"
   ]
  },
  {
   "cell_type": "code",
   "execution_count": 14,
   "metadata": {},
   "outputs": [
    {
     "name": "stdout",
     "output_type": "stream",
     "text": [
      "['white', 'white', 'white', 'white', 'white']\n",
      "white 0\n",
      "white 1\n",
      "white 2\n",
      "white 3\n",
      "white 4\n",
      "['orange']\n",
      "['orange', 'orange']\n"
     ]
    }
   ],
   "source": [
    "# Loops \n",
    "\n",
    "# For loop\n",
    "squares = [\"red\", \"yellow\", \"green\", \"purple\", \"blue\"]\n",
    "for i in range(0, 5):\n",
    "   squares[i] = \"white\" # substitute the value of the list\n",
    "print(squares)\n",
    "\n",
    "for i, square in enumerate(squares):\n",
    "   print(square, i)\n",
    "\n",
    "# While loop\n",
    "squares = [\"orange\", \"orange\", \"purple\", \"blue\"]\n",
    "new_squares = []\n",
    "i = 0\n",
    "while (squares[i] == \"orange\"):\n",
    "   new_squares.append(squares[i])\n",
    "   print(new_squares)\n",
    "   i = i + 1"
   ]
  },
  {
   "cell_type": "code",
   "execution_count": 21,
   "metadata": {},
   "outputs": [
    {
     "name": "stdout",
     "output_type": "stream",
     "text": [
      "6\n",
      "This album is good its rating is 8\n",
      "Dark Side of the Moon\n"
     ]
    }
   ],
   "source": [
    "# Functions\n",
    "# Built-in functions\n",
    "# len(), sum(), sort(), max(), min()\n",
    "\n",
    "# User-defined functions\n",
    "def add1(a):\n",
    "   b = a + 1\n",
    "   return b\n",
    "\n",
    "c = add1(5)\n",
    "print(c)\n",
    "\n",
    "# Multiple parameters\n",
    "def isGoodRating(rating):\n",
    "   if (rating < 7):\n",
    "      print(\"This album sucks it's rating is\", rating)\n",
    "   else:\n",
    "      print(\"This album is good its rating is\", rating)\n",
    "\n",
    "rating_album = int(input(\"Enter the rating of the album: \"))\n",
    "isGoodRating(rating_album)\n",
    "\n",
    "\n",
    "def PinkFloyd():\n",
    "   global claim\n",
    "   claim = \"Dark Side of the Moon\"\n",
    "   return claim\n",
    "\n",
    "PinkFloyd()\n",
    "print(claim)\n",
    "\n"
   ]
  }
 ],
 "metadata": {
  "kernelspec": {
   "display_name": "Python 3",
   "language": "python",
   "name": "python3"
  },
  "language_info": {
   "codemirror_mode": {
    "name": "ipython",
    "version": 3
   },
   "file_extension": ".py",
   "mimetype": "text/x-python",
   "name": "python",
   "nbconvert_exporter": "python",
   "pygments_lexer": "ipython3",
   "version": "3.12.2"
  }
 },
 "nbformat": 4,
 "nbformat_minor": 2
}

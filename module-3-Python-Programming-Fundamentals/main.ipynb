{
 "cells": [
  {
   "cell_type": "code",
   "execution_count": 8,
   "metadata": {},
   "outputs": [
    {
     "name": "stdout",
     "output_type": "stream",
     "text": [
      "Go to see Pink Floyd\n",
      "Move On\n"
     ]
    }
   ],
   "source": [
    "# Conditions and Branching \n",
    "\n",
    "age = int(input(\"Enter your age: \"))\n",
    "\n",
    "#if (age >= 18):\n",
    "#   print(\"You can enter\")\n",
    "#else:\n",
    "#   print(\"Go see Meat Loaf\")\n",
    "#print(\"Move On\")\n",
    "\n",
    "# Elif statement\n",
    "\n",
    "if (age > 18):\n",
    "   print(\"You can enter\")\n",
    "elif (age == 18):\n",
    "   print(\"Go to see Pink Floyd\")\n",
    "else:\n",
    "   print(\"Go see Meat Loaf\")\n",
    "print(\"Move On\")\n",
    "\n",
    "# Logical operators\n",
    "# and, or, not\n",
    "\n",
    "album_year = 1990\n",
    "if (album_year < 1980) or (album_year > 1989):\n",
    "   print(\"The album was made in the 70's or 90's\")\n",
    "else:\n",
    "   print(\"The album was made in the 80's\")\n"
   ]
  },
  {
   "cell_type": "code",
   "execution_count": null,
   "metadata": {},
   "outputs": [],
   "source": []
  }
 ],
 "metadata": {
  "kernelspec": {
   "display_name": "Python 3",
   "language": "python",
   "name": "python3"
  },
  "language_info": {
   "codemirror_mode": {
    "name": "ipython",
    "version": 3
   },
   "file_extension": ".py",
   "mimetype": "text/x-python",
   "name": "python",
   "nbconvert_exporter": "python",
   "pygments_lexer": "ipython3",
   "version": "3.12.2"
  }
 },
 "nbformat": 4,
 "nbformat_minor": 2
}

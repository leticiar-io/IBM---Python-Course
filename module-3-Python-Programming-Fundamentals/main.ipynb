{
 "cells": [
  {
   "cell_type": "code",
   "execution_count": 18,
   "metadata": {},
   "outputs": [
    {
     "name": "stdout",
     "output_type": "stream",
     "text": [
      "Go to see Pink Floyd\n",
      "Move On\n",
      "The album was made in the 70's or 90's\n"
     ]
    }
   ],
   "source": [
    "# Conditions and Branching \n",
    "\n",
    "age = int(input(\"Enter your age: \"))\n",
    "\n",
    "#if (age >= 18):\n",
    "#   print(\"You can enter\")\n",
    "#else:\n",
    "#   print(\"Go see Meat Loaf\")\n",
    "#print(\"Move On\")\n",
    "\n",
    "# Elif statement\n",
    "\n",
    "if (age > 18):\n",
    "   print(\"You can enter\")\n",
    "elif (age == 18):\n",
    "   print(\"Go to see Pink Floyd\")\n",
    "else:\n",
    "   print(\"Go see Meat Loaf\")\n",
    "print(\"Move On\")\n",
    "\n",
    "# Logical operators\n",
    "# and, or, not\n",
    "\n",
    "album_year = 1990\n",
    "if (album_year < 1980) or (album_year > 1989):\n",
    "   print(\"The album was made in the 70's or 90's\")\n",
    "else:\n",
    "   print(\"The album was made in the 80's\")\n"
   ]
  },
  {
   "cell_type": "code",
   "execution_count": 14,
   "metadata": {},
   "outputs": [
    {
     "name": "stdout",
     "output_type": "stream",
     "text": [
      "['white', 'white', 'white', 'white', 'white']\n",
      "white 0\n",
      "white 1\n",
      "white 2\n",
      "white 3\n",
      "white 4\n",
      "['orange']\n",
      "['orange', 'orange']\n"
     ]
    }
   ],
   "source": [
    "# Loops \n",
    "\n",
    "# For loop\n",
    "squares = [\"red\", \"yellow\", \"green\", \"purple\", \"blue\"]\n",
    "for i in range(0, 5):\n",
    "   squares[i] = \"white\" # substitute the value of the list\n",
    "print(squares)\n",
    "\n",
    "for i, square in enumerate(squares):\n",
    "   print(square, i)\n",
    "\n",
    "# While loop\n",
    "squares = [\"orange\", \"orange\", \"purple\", \"blue\"]\n",
    "new_squares = []\n",
    "i = 0\n",
    "while (squares[i] == \"orange\"):\n",
    "   new_squares.append(squares[i])\n",
    "   print(new_squares)\n",
    "   i = i + 1"
   ]
  },
  {
   "cell_type": "code",
   "execution_count": 21,
   "metadata": {},
   "outputs": [
    {
     "name": "stdout",
     "output_type": "stream",
     "text": [
      "6\n",
      "This album is good its rating is 8\n",
      "Dark Side of the Moon\n"
     ]
    }
   ],
   "source": [
    "# Functions\n",
    "# Built-in functions\n",
    "# len(), sum(), sort(), max(), min()\n",
    "\n",
    "# User-defined functions\n",
    "def add1(a):\n",
    "   b = a + 1\n",
    "   return b\n",
    "\n",
    "c = add1(5)\n",
    "print(c)\n",
    "\n",
    "# Multiple parameters\n",
    "def isGoodRating(rating):\n",
    "   if (rating < 7):\n",
    "      print(\"This album sucks it's rating is\", rating)\n",
    "   else:\n",
    "      print(\"This album is good its rating is\", rating)\n",
    "\n",
    "rating_album = int(input(\"Enter the rating of the album: \"))\n",
    "isGoodRating(rating_album)\n",
    "\n",
    "\n",
    "def PinkFloyd():\n",
    "   global claim\n",
    "   claim = \"Dark Side of the Moon\"\n",
    "   return claim\n",
    "\n",
    "PinkFloyd()\n",
    "print(claim)\n",
    "\n"
   ]
  },
  {
   "cell_type": "code",
   "execution_count": 28,
   "metadata": {},
   "outputs": [
    {
     "name": "stdout",
     "output_type": "stream",
     "text": [
      "red\n",
      "10\n",
      "12\n"
     ]
    }
   ],
   "source": [
    "# Objects and Classes\n",
    "# Every object has:\n",
    "# a type\n",
    "# an internal data representation (primitive or composite)\n",
    "# a set of procedures for interaction with the object\n",
    "# an object is an instance of a particular type\n",
    "\n",
    "class Circle(object):\n",
    "   def __init__(self, radius, color):\n",
    "      self.radius = radius; # initialize the object's data attributes\n",
    "      self.color = color;\n",
    "   def add_radius(self, r):\n",
    "      self.radius = self.radius + r\n",
    "      return(self.radius)\n",
    "\n",
    "RedCircle = Circle(10, \"red\")\n",
    "print(RedCircle.color)\n",
    "print(RedCircle.radius)\n",
    "RedCircle.add_radius(2)\n",
    "print(RedCircle.radius)\n"
   ]
  },
  {
   "cell_type": "code",
   "execution_count": 34,
   "metadata": {},
   "outputs": [
    {
     "name": "stdout",
     "output_type": "stream",
     "text": [
      "This is a Ford Focus from 2014\n",
      "This is a Fiat Mobi from 2020\n",
      "This is a Fiat Mobi from 2020\n",
      "This is a Accord Honda from 2019\n"
     ]
    }
   ],
   "source": [
    "# Exercises\n",
    "\n",
    "class Car (object):\n",
    "   def __init__(self, make, model, year):\n",
    "      self.make = make\n",
    "      self.model = model\n",
    "      self.year = year\n",
    "   def display(self):\n",
    "      return print(\"This is a %s %s from %d\" % (self.make, self.model, self.year))\n",
    "   \n",
    "# Create an object\n",
    "myCar = Car(\"Ford\", \"Focus\", 2014)\n",
    "myCar.display()\n",
    "myCar = Car(make=\"Fiat\", model=\"Mobi\", year=2020)\n",
    "myCar.display()\n",
    "myCar = Car(model=\"Mobi\", make=\"Fiat\", year=2020)\n",
    "myCar.display()\n",
    "myCar = Car(\"Accord\", \"Honda\", 2019)\n",
    "myCar.display()\n",
    "\n",
    "# https://labs.cognitiveclass.ai/v2/tools/jupyterlite?ulid=ulid-265cede5e9141a07fa921d261391443cbc0bc4d7 "
   ]
  },
  {
   "cell_type": "code",
   "execution_count": 49,
   "metadata": {},
   "outputs": [
    {
     "name": "stdout",
     "output_type": "stream",
     "text": [
      "Hi\n",
      "Mike\n",
      "11\n",
      "22\n",
      "33\n",
      "['BMW', 'Ford', 'Volvo']\n",
      "1\n"
     ]
    }
   ],
   "source": [
    "# Exercise 2\n",
    "\n",
    "x = 1\n",
    "if x != 1:\n",
    "   print('Hello')\n",
    "else:\n",
    "   print('Hi')\n",
    "print('Mike')\n",
    "\n",
    "A = ['1','2','3']\n",
    "\n",
    "for a in A:\n",
    "   print(2*a)\n",
    "\n",
    "# Sort\n",
    "cars = ['Ford', 'BMW', 'Volvo']\n",
    "cars.sort()\n",
    "print(cars)\n",
    "\n",
    "def Delta(x):\n",
    "   if x == 0:\n",
    "      y = 1;\n",
    "   else:\n",
    "      y = 0;\n",
    "   return(y)\n",
    "\n",
    "print(Delta(0))"
   ]
  }
 ],
 "metadata": {
  "kernelspec": {
   "display_name": "Python 3",
   "language": "python",
   "name": "python3"
  },
  "language_info": {
   "codemirror_mode": {
    "name": "ipython",
    "version": 3
   },
   "file_extension": ".py",
   "mimetype": "text/x-python",
   "name": "python",
   "nbconvert_exporter": "python",
   "pygments_lexer": "ipython3",
   "version": "3.12.2"
  }
 },
 "nbformat": 4,
 "nbformat_minor": 2
}

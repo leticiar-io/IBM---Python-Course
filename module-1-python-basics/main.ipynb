{
 "cells": [
  {
   "cell_type": "code",
   "execution_count": 1,
   "metadata": {},
   "outputs": [
    {
     "name": "stdout",
     "output_type": "stream",
     "text": [
      "Hello\n",
      "World!\n"
     ]
    }
   ],
   "source": [
    "# wow that's a comment in python\n",
    "print(\"Hello\\nWorld!\") # \\n is a newline character "
   ]
  },
  {
   "cell_type": "code",
   "execution_count": 9,
   "metadata": {},
   "outputs": [
    {
     "name": "stdout",
     "output_type": "stream",
     "text": [
      "<class 'int'>\n",
      "<class 'int'>\n",
      "<class 'float'>\n",
      "<class 'str'>\n",
      "<class 'bool'>\n",
      "1\n",
      "<class 'int'>\n"
     ]
    }
   ],
   "source": [
    "# Types in python\n",
    "# int, float, str, bool\n",
    "\n",
    "print(type(5)) # int - can be negative or positive\n",
    "print(type(-5))\n",
    "print(type(5.0)) # float\n",
    "print(type(\"5\")) # str\n",
    "print(type(True)) # bool\n",
    "\n",
    "# we can't convert a string to an int\n",
    "# print(int(\"5\")) # this will throw an error\n",
    "\n",
    "# But, we can convert: \n",
    "# a bool to an int, like True to 1 or False to 0 or 1 to True or 0 to False\n",
    "print(int(True)) # return 1\n",
    "\n",
    "print(type(int(5.0)))"
   ]
  },
  {
   "cell_type": "code",
   "execution_count": 12,
   "metadata": {},
   "outputs": [
    {
     "name": "stdout",
     "output_type": "stream",
     "text": [
      "10\n",
      "0\n",
      "25\n",
      "1.0\n",
      "1\n",
      "0\n",
      "3125\n",
      "150\n",
      "Hey, that's the value of my variable: 10\n",
      "Total hours: 1.4166666666666667\n"
     ]
    }
   ],
   "source": [
    "# Mathematical Operations\n",
    "\n",
    "print(5 + 5) # 10\n",
    "print(5 - 5) # 0\n",
    "print(5 * 5) # 25\n",
    "print(5 / 5) # 1.0\n",
    "print(5 // 5) # 1 - retorns the integer division\n",
    "print(5 % 5) # 0\n",
    "print(5 ** 5) # 3125\n",
    "\n",
    "# Order of operations\n",
    "# (), **, * and /, + and -\n",
    "print(2*60+30) # \n",
    "\n",
    "# Variables\n",
    "my_variable = 10\n",
    "print(f\"Hey, that's the value of my variable: {my_variable}\")\n",
    "\n",
    "# How to convert number of minutes to hours\n",
    "total_min = 43+42\n",
    "total_hr = total_min/60\n",
    "print(f\"Total hours: {total_hr}\")\n"
   ]
  },
  {
   "cell_type": "code",
   "execution_count": 46,
   "metadata": {},
   "outputs": [
    {
     "name": "stdout",
     "output_type": "stream",
     "text": [
      "The first letter is H\n",
      "Howl\n",
      "Hw etgo \n",
      "Pentagron \n",
      "Hw etgo\n",
      "The length of the string is 15\n",
      "Howl Pentagron Howl Pentagron Howl Pentagron \n",
      "Howl Pentagron  \n",
      "is my favorite character\n",
      "Howl Pentagron  \tis my favorite character\n",
      "Howl Pentagron  \\is my favorite character\n",
      "HOWL PENTAGRON \n",
      "howl pentagron \n",
      "Howl pentagron \n",
      "Howl Pentagron \n",
      "1\n",
      "0246\n",
      "<class 'int'>\n"
     ]
    }
   ],
   "source": [
    "# String operations\n",
    "# Strings is a sequence of characters\n",
    "\n",
    "#       1234\n",
    "name = \"Howl Pentagron \"\n",
    "print(f\"The first letter is {name[0]}\") # H\n",
    "print(name[0:4]) # Howl - That's an example of slicing\n",
    "print(name[::2]) # Hw agon - That's an example of slicing\n",
    "print(name[5:]) # Pentagron - That's an example of slicing\n",
    "print(name[0:13:2]) # Hw - That's an example of slicing - start, stop, step\n",
    "\n",
    "tamanho = len(name)\n",
    "print(f\"The length of the string is {tamanho}\")\n",
    "print(3*name)\n",
    "\n",
    "# WE CAN'T CHANGE A VALUE OF STRING, like: name[0] = \"h\" - this will throw an error\n",
    "\n",
    "# Escape sequences\n",
    "print(f\"{name} \\nis my favorite character\") # \\n is a newline character\n",
    "print(f\"{name} \\tis my favorite character\") # \\t is a tab character\n",
    "print(f\"{name} \\\\is my favorite character\") # \\\\ is a backslash character\n",
    "\n",
    "# String methods\n",
    "print(name.upper())\n",
    "print(name.lower())\n",
    "print(name.capitalize())\n",
    "print(name.title())\n",
    "print(name.find(\"owl\"))\n",
    "\n",
    "Numbers = \"0123456\"\n",
    "print(Numbers[::2]) # That's a form to get the even numbers (pares)\n",
    "print(Numbers.find('1'))\n"
   ]
  },
  {
   "cell_type": "code",
   "execution_count": 48,
   "metadata": {},
   "outputs": [
    {
     "name": "stdout",
     "output_type": "stream",
     "text": [
      "7\n",
      "Li\n"
     ]
    }
   ],
   "source": [
    "value = 3+2*2\n",
    "print(value) # 7\n",
    "\n",
    "value= \"Lizz\"\n",
    "print(value[0:2]) # Li - That's an example of slicing - start, stop, step\n",
    "\n"
   ]
  }
 ],
 "metadata": {
  "kernelspec": {
   "display_name": "Python 3",
   "language": "python",
   "name": "python3"
  },
  "language_info": {
   "codemirror_mode": {
    "name": "ipython",
    "version": 3
   },
   "file_extension": ".py",
   "mimetype": "text/x-python",
   "name": "python",
   "nbconvert_exporter": "python",
   "pygments_lexer": "ipython3",
   "version": "3.12.2"
  }
 },
 "nbformat": 4,
 "nbformat_minor": 2
}
